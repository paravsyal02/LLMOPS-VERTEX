{
  "cells": [
    {
      "cell_type": "code",
      "id": "G5isI8CICoIFZRse4eKI2jn2",
      "metadata": {
        "tags": [],
        "id": "G5isI8CICoIFZRse4eKI2jn2",
        "outputId": "973a2678-7df9-4973-d65d-ccc1a4639d77",
        "colab": {
          "base_uri": "https://localhost:8080/"
        }
      },
      "source": [
        "print(\"ok\")"
      ],
      "execution_count": null,
      "outputs": [
        {
          "output_type": "stream",
          "name": "stdout",
          "text": [
            "ok\n"
          ]
        }
      ]
    },
    {
      "cell_type": "markdown",
      "source": [
        "Install VERTEX AI SDK for Python\n"
      ],
      "metadata": {
        "id": "eGW7PtnDeAYn"
      },
      "id": "eGW7PtnDeAYn"
    },
    {
      "cell_type": "code",
      "source": [
        "!pip install --upgrade --user google-cloud-aiplatform"
      ],
      "metadata": {
        "id": "vKC3IhjldfWM",
        "colab": {
          "base_uri": "https://localhost:8080/",
          "height": 862
        },
        "outputId": "4f9790c8-b99d-4f70-e045-71c9930f59e9"
      },
      "id": "vKC3IhjldfWM",
      "execution_count": 2,
      "outputs": [
        {
          "output_type": "stream",
          "name": "stdout",
          "text": [
            "Requirement already satisfied: google-cloud-aiplatform in /usr/local/lib/python3.10/dist-packages (1.74.0)\n",
            "Collecting google-cloud-aiplatform\n",
            "  Downloading google_cloud_aiplatform-1.79.0-py2.py3-none-any.whl.metadata (32 kB)\n",
            "Requirement already satisfied: google-api-core!=2.0.*,!=2.1.*,!=2.2.*,!=2.3.*,!=2.4.*,!=2.5.*,!=2.6.*,!=2.7.*,<3.0.0dev,>=1.34.1 in /usr/local/lib/python3.10/dist-packages (from google-api-core[grpc]!=2.0.*,!=2.1.*,!=2.2.*,!=2.3.*,!=2.4.*,!=2.5.*,!=2.6.*,!=2.7.*,<3.0.0dev,>=1.34.1->google-cloud-aiplatform) (2.19.2)\n",
            "Requirement already satisfied: google-auth<3.0.0dev,>=2.14.1 in /usr/local/lib/python3.10/dist-packages (from google-cloud-aiplatform) (2.27.0)\n",
            "Requirement already satisfied: proto-plus<2.0.0dev,>=1.22.3 in /usr/local/lib/python3.10/dist-packages (from google-cloud-aiplatform) (1.25.0)\n",
            "Requirement already satisfied: protobuf!=4.21.0,!=4.21.1,!=4.21.2,!=4.21.3,!=4.21.4,!=4.21.5,<6.0.0dev,>=3.20.2 in /usr/local/lib/python3.10/dist-packages (from google-cloud-aiplatform) (4.25.5)\n",
            "Requirement already satisfied: packaging>=14.3 in /usr/local/lib/python3.10/dist-packages (from google-cloud-aiplatform) (24.2)\n",
            "Requirement already satisfied: google-cloud-storage<3.0.0dev,>=1.32.0 in /usr/local/lib/python3.10/dist-packages (from google-cloud-aiplatform) (2.19.0)\n",
            "Requirement already satisfied: google-cloud-bigquery!=3.20.0,<4.0.0dev,>=1.15.0 in /usr/local/lib/python3.10/dist-packages (from google-cloud-aiplatform) (3.25.0)\n",
            "Requirement already satisfied: google-cloud-resource-manager<3.0.0dev,>=1.3.3 in /usr/local/lib/python3.10/dist-packages (from google-cloud-aiplatform) (1.14.0)\n",
            "Requirement already satisfied: shapely<3.0.0dev in /usr/local/lib/python3.10/dist-packages (from google-cloud-aiplatform) (2.0.6)\n",
            "Requirement already satisfied: pydantic<3 in /usr/local/lib/python3.10/dist-packages (from google-cloud-aiplatform) (2.10.4)\n",
            "Requirement already satisfied: typing-extensions in /usr/local/lib/python3.10/dist-packages (from google-cloud-aiplatform) (4.12.2)\n",
            "Requirement already satisfied: docstring-parser<1 in /usr/local/lib/python3.10/dist-packages (from google-cloud-aiplatform) (0.16)\n",
            "Requirement already satisfied: googleapis-common-protos<2.0.dev0,>=1.56.2 in /usr/local/lib/python3.10/dist-packages (from google-api-core!=2.0.*,!=2.1.*,!=2.2.*,!=2.3.*,!=2.4.*,!=2.5.*,!=2.6.*,!=2.7.*,<3.0.0dev,>=1.34.1->google-api-core[grpc]!=2.0.*,!=2.1.*,!=2.2.*,!=2.3.*,!=2.4.*,!=2.5.*,!=2.6.*,!=2.7.*,<3.0.0dev,>=1.34.1->google-cloud-aiplatform) (1.66.0)\n",
            "Requirement already satisfied: requests<3.0.0.dev0,>=2.18.0 in /usr/local/lib/python3.10/dist-packages (from google-api-core!=2.0.*,!=2.1.*,!=2.2.*,!=2.3.*,!=2.4.*,!=2.5.*,!=2.6.*,!=2.7.*,<3.0.0dev,>=1.34.1->google-api-core[grpc]!=2.0.*,!=2.1.*,!=2.2.*,!=2.3.*,!=2.4.*,!=2.5.*,!=2.6.*,!=2.7.*,<3.0.0dev,>=1.34.1->google-cloud-aiplatform) (2.32.3)\n",
            "Requirement already satisfied: grpcio<2.0dev,>=1.33.2 in /usr/local/lib/python3.10/dist-packages (from google-api-core[grpc]!=2.0.*,!=2.1.*,!=2.2.*,!=2.3.*,!=2.4.*,!=2.5.*,!=2.6.*,!=2.7.*,<3.0.0dev,>=1.34.1->google-cloud-aiplatform) (1.69.0)\n",
            "Requirement already satisfied: grpcio-status<2.0.dev0,>=1.33.2 in /usr/local/lib/python3.10/dist-packages (from google-api-core[grpc]!=2.0.*,!=2.1.*,!=2.2.*,!=2.3.*,!=2.4.*,!=2.5.*,!=2.6.*,!=2.7.*,<3.0.0dev,>=1.34.1->google-cloud-aiplatform) (1.62.3)\n",
            "Requirement already satisfied: cachetools<6.0,>=2.0.0 in /usr/local/lib/python3.10/dist-packages (from google-auth<3.0.0dev,>=2.14.1->google-cloud-aiplatform) (5.5.0)\n",
            "Requirement already satisfied: pyasn1-modules>=0.2.1 in /usr/local/lib/python3.10/dist-packages (from google-auth<3.0.0dev,>=2.14.1->google-cloud-aiplatform) (0.4.1)\n",
            "Requirement already satisfied: rsa<5,>=3.1.4 in /usr/local/lib/python3.10/dist-packages (from google-auth<3.0.0dev,>=2.14.1->google-cloud-aiplatform) (4.9)\n",
            "Requirement already satisfied: google-cloud-core<3.0.0dev,>=1.6.0 in /usr/local/lib/python3.10/dist-packages (from google-cloud-bigquery!=3.20.0,<4.0.0dev,>=1.15.0->google-cloud-aiplatform) (2.4.1)\n",
            "Requirement already satisfied: google-resumable-media<3.0dev,>=0.6.0 in /usr/local/lib/python3.10/dist-packages (from google-cloud-bigquery!=3.20.0,<4.0.0dev,>=1.15.0->google-cloud-aiplatform) (2.7.2)\n",
            "Requirement already satisfied: python-dateutil<3.0dev,>=2.7.2 in /usr/local/lib/python3.10/dist-packages (from google-cloud-bigquery!=3.20.0,<4.0.0dev,>=1.15.0->google-cloud-aiplatform) (2.8.2)\n",
            "Requirement already satisfied: grpc-google-iam-v1<1.0.0dev,>=0.12.4 in /usr/local/lib/python3.10/dist-packages (from google-cloud-resource-manager<3.0.0dev,>=1.3.3->google-cloud-aiplatform) (0.14.0)\n",
            "Requirement already satisfied: google-crc32c<2.0dev,>=1.0 in /usr/local/lib/python3.10/dist-packages (from google-cloud-storage<3.0.0dev,>=1.32.0->google-cloud-aiplatform) (1.6.0)\n",
            "Requirement already satisfied: annotated-types>=0.6.0 in /usr/local/lib/python3.10/dist-packages (from pydantic<3->google-cloud-aiplatform) (0.7.0)\n",
            "Requirement already satisfied: pydantic-core==2.27.2 in /usr/local/lib/python3.10/dist-packages (from pydantic<3->google-cloud-aiplatform) (2.27.2)\n",
            "Requirement already satisfied: numpy<3,>=1.14 in /usr/local/lib/python3.10/dist-packages (from shapely<3.0.0dev->google-cloud-aiplatform) (1.26.4)\n",
            "Requirement already satisfied: pyasn1<0.7.0,>=0.4.6 in /usr/local/lib/python3.10/dist-packages (from pyasn1-modules>=0.2.1->google-auth<3.0.0dev,>=2.14.1->google-cloud-aiplatform) (0.6.1)\n",
            "Requirement already satisfied: six>=1.5 in /usr/local/lib/python3.10/dist-packages (from python-dateutil<3.0dev,>=2.7.2->google-cloud-bigquery!=3.20.0,<4.0.0dev,>=1.15.0->google-cloud-aiplatform) (1.17.0)\n",
            "Requirement already satisfied: charset-normalizer<4,>=2 in /usr/local/lib/python3.10/dist-packages (from requests<3.0.0.dev0,>=2.18.0->google-api-core!=2.0.*,!=2.1.*,!=2.2.*,!=2.3.*,!=2.4.*,!=2.5.*,!=2.6.*,!=2.7.*,<3.0.0dev,>=1.34.1->google-api-core[grpc]!=2.0.*,!=2.1.*,!=2.2.*,!=2.3.*,!=2.4.*,!=2.5.*,!=2.6.*,!=2.7.*,<3.0.0dev,>=1.34.1->google-cloud-aiplatform) (3.4.1)\n",
            "Requirement already satisfied: idna<4,>=2.5 in /usr/local/lib/python3.10/dist-packages (from requests<3.0.0.dev0,>=2.18.0->google-api-core!=2.0.*,!=2.1.*,!=2.2.*,!=2.3.*,!=2.4.*,!=2.5.*,!=2.6.*,!=2.7.*,<3.0.0dev,>=1.34.1->google-api-core[grpc]!=2.0.*,!=2.1.*,!=2.2.*,!=2.3.*,!=2.4.*,!=2.5.*,!=2.6.*,!=2.7.*,<3.0.0dev,>=1.34.1->google-cloud-aiplatform) (3.10)\n",
            "Requirement already satisfied: urllib3<3,>=1.21.1 in /usr/local/lib/python3.10/dist-packages (from requests<3.0.0.dev0,>=2.18.0->google-api-core!=2.0.*,!=2.1.*,!=2.2.*,!=2.3.*,!=2.4.*,!=2.5.*,!=2.6.*,!=2.7.*,<3.0.0dev,>=1.34.1->google-api-core[grpc]!=2.0.*,!=2.1.*,!=2.2.*,!=2.3.*,!=2.4.*,!=2.5.*,!=2.6.*,!=2.7.*,<3.0.0dev,>=1.34.1->google-cloud-aiplatform) (2.3.0)\n",
            "Requirement already satisfied: certifi>=2017.4.17 in /usr/local/lib/python3.10/dist-packages (from requests<3.0.0.dev0,>=2.18.0->google-api-core!=2.0.*,!=2.1.*,!=2.2.*,!=2.3.*,!=2.4.*,!=2.5.*,!=2.6.*,!=2.7.*,<3.0.0dev,>=1.34.1->google-api-core[grpc]!=2.0.*,!=2.1.*,!=2.2.*,!=2.3.*,!=2.4.*,!=2.5.*,!=2.6.*,!=2.7.*,<3.0.0dev,>=1.34.1->google-cloud-aiplatform) (2024.12.14)\n",
            "Downloading google_cloud_aiplatform-1.79.0-py2.py3-none-any.whl (7.1 MB)\n",
            "\u001b[2K   \u001b[90m━━━━━━━━━━━━━━━━━━━━━━━━━━━━━━━━━━━━━━━━\u001b[0m \u001b[32m7.1/7.1 MB\u001b[0m \u001b[31m58.8 MB/s\u001b[0m eta \u001b[36m0:00:00\u001b[0m\n",
            "\u001b[?25hInstalling collected packages: google-cloud-aiplatform\n",
            "\u001b[33m  WARNING: The script tb-gcp-uploader is installed in '/root/.local/bin' which is not on PATH.\n",
            "  Consider adding this directory to PATH or, if you prefer to suppress this warning, use --no-warn-script-location.\u001b[0m\u001b[33m\n",
            "\u001b[0mSuccessfully installed google-cloud-aiplatform-1.79.0\n"
          ]
        },
        {
          "output_type": "display_data",
          "data": {
            "application/vnd.colab-display-data+json": {
              "pip_warning": {
                "packages": [
                  "google"
                ]
              },
              "id": "5d913896d69243a998ee495cd46b6372"
            }
          },
          "metadata": {}
        }
      ]
    },
    {
      "cell_type": "code",
      "source": [
        "import vertexai"
      ],
      "metadata": {
        "id": "aBp-EpuveYTn"
      },
      "id": "aBp-EpuveYTn",
      "execution_count": 1,
      "outputs": []
    },
    {
      "cell_type": "code",
      "source": [
        "from vertexai.preview.generative_models import (\n",
        "    GenerationConfig,\n",
        "    GenerativeModel,\n",
        "    HarmCategory,\n",
        "    HarmBlockThreshold,\n",
        "    Image,\n",
        "    Part\n",
        ")\n"
      ],
      "metadata": {
        "id": "HoHD-gOKhBxu"
      },
      "id": "HoHD-gOKhBxu",
      "execution_count": 12,
      "outputs": []
    },
    {
      "cell_type": "code",
      "source": [
        "model = GenerativeModel(\"gemini-1.0-pro\")"
      ],
      "metadata": {
        "id": "s0Grrz1mhgmf"
      },
      "id": "s0Grrz1mhgmf",
      "execution_count": 3,
      "outputs": []
    },
    {
      "cell_type": "markdown",
      "source": [
        "Generate Text From Prompts"
      ],
      "metadata": {
        "id": "0C0QoQ-EihMC"
      },
      "id": "0C0QoQ-EihMC"
    },
    {
      "cell_type": "code",
      "source": [
        "responses = model.generate_content(\"Why is Sky blue?\", stream=True)"
      ],
      "metadata": {
        "id": "cgYOkgpYiaIF"
      },
      "id": "cgYOkgpYiaIF",
      "execution_count": 4,
      "outputs": []
    },
    {
      "cell_type": "code",
      "source": [
        "for response in responses:\n",
        "  print(response.text, end=\"\")"
      ],
      "metadata": {
        "colab": {
          "base_uri": "https://localhost:8080/"
        },
        "id": "SvYNrwp-iEuN",
        "outputId": "959910cf-6b36-4182-f705-6b0e01460b51"
      },
      "id": "SvYNrwp-iEuN",
      "execution_count": 5,
      "outputs": [
        {
          "output_type": "stream",
          "name": "stdout",
          "text": [
            "The sky appears blue due to a phenomenon called Rayleigh scattering. This scattering occurs when sunlight enters Earth's atmosphere and interacts with the tiny molecules of air, such as nitrogen and oxygen. These molecules scatter the sunlight in all directions.\n",
            "\n",
            "However, blue light has a shorter wavelength than other colors, such as red or yellow. When sunlight is scattered by the air molecules, the shorter wavelengths of blue light are scattered more strongly than the longer wavelengths. This means that more blue light reaches our eyes from the sky than any other color. \n",
            "\n",
            "Therefore, the sky appears blue to us because of the way sunlight is scattered by the molecules in Earth's atmosphere. This phenomenon is also responsible for the reddish-orange color of the sun during sunrise and sunset, as the sunlight must travel through more atmosphere and the blue light is scattered away, leaving the longer wavelengths of red and orange to reach our eyes."
          ]
        }
      ]
    },
    {
      "cell_type": "code",
      "source": [
        "responses = model.generate_content(\"What are the latest developments in the automotive industry?\", stream=True)\n",
        "for response in responses:\n",
        "  print(response.text, end=\"\")"
      ],
      "metadata": {
        "colab": {
          "base_uri": "https://localhost:8080/"
        },
        "id": "4iacTs1tjhZ9",
        "outputId": "ff1b5d92-26a5-4861-e8f3-8c41a84e92e6"
      },
      "execution_count": 6,
      "outputs": [
        {
          "output_type": "stream",
          "name": "stdout",
          "text": [
            "## Latest Developments in the Automotive Industry (Pre-November 2023)\n",
            "\n",
            "Several exciting developments are shaping the future of the automotive industry. Here's a brief overview:\n",
            "\n",
            "**1. Electric Vehicles:**\n",
            "\n",
            "* **Rapid growth:** The EV market is experiencing exponential growth, driven by government incentives, falling battery costs, and increasing consumer demand.\n",
            "* **New models:** Major manufacturers are rapidly expanding their EV offerings, with new models hitting the market every year.\n",
            "* **Infrastructure development:** Investments are pouring into charging infrastructure, addressing range anxiety concerns.\n",
            "\n",
            "**2. Autonomous Driving:**\n",
            "\n",
            "* **Technological advancements:** Self-driving technology continues to evolve, with significant progress made in sensor fusion, artificial intelligence, and mapping.\n",
            "* **Regulation and testing:** Governments worldwide are developing regulations and testing procedures for autonomous vehicles.\n",
            "* **Early adoption:** Limited autonomous driving features are already available in some high-end vehicles, with fully autonomous cars expected in the near future.\n",
            "\n",
            "**3. Connected Cars:**\n",
            "\n",
            "* **V2X communication:** Vehicles are becoming increasingly connected, enabling communication with each other and infrastructure for improved safety and traffic efficiency.\n",
            "* **In-car technology:** Advanced infotainment systems, heads-up displays, and personalized driving experiences are enhancing the driving experience.\n",
            "* **Data monetization:** The vast amounts of data generated by connected cars present new opportunities for businesses and consumers.\n",
            "\n",
            "**4. Shared Mobility:**\n",
            "\n",
            "* **Rise of ride-sharing:** Ride-sharing services like Uber and Lyft are becoming increasingly popular, providing convenient and affordable transportation options.\n",
            "* **Car ownership alternatives:** Subscription services and car-sharing platforms offer alternatives to traditional car ownership, particularly in urban areas.\n",
            "\n",
            "**5. Cybersecurity:**\n",
            "\n",
            "* **Growing concerns:** With increased connectivity, cybersecurity is a major concern for the automotive industry.\n",
            "* **Protection measures:** Manufacturers are implementing robust security measures to safeguard vehicles from cyberattacks.\n",
            "\n",
            "These are just some of the key developments shaping the future of the automotive industry. As technology continues to advance and consumer preferences evolve, we can expect further transformation in the years to come.\n",
            "\n",
            "Please note that this information is based on my knowledge cutoff in November 2023, and there might be significant developments since then."
          ]
        }
      ],
      "id": "4iacTs1tjhZ9"
    },
    {
      "cell_type": "code",
      "source": [
        "prompt = \"\"\" Create a numbered list of 10 items. Each item in the list should be a trend in the tech industry. Each trend should be less than 5 words.\"\"\"\n",
        "\n",
        "responses = model.generate_content(prompt, stream=True)\n",
        "\n",
        "for response in responses:\n",
        "  print(response.text, end=\"\")"
      ],
      "metadata": {
        "id": "odZLhLyuibFu",
        "colab": {
          "base_uri": "https://localhost:8080/"
        },
        "outputId": "4846abd8-a478-4304-e2d3-7401849d2f99"
      },
      "execution_count": 8,
      "outputs": [
        {
          "output_type": "stream",
          "name": "stdout",
          "text": [
            "## Top 10 Tech Trends:\n",
            "\n",
            "1. **Generative AI** \n",
            "2. **Metaverse Expansion**\n",
            "3. **Cybersecurity Mesh**\n",
            "4. **Sustainable Tech** \n",
            "5. **Hyperautomation**\n",
            "6. **Quantum Computing** \n",
            "7. **Decentralized Finance**\n",
            "8. **Digital Wellness** \n",
            "9. **Low-code Development** \n",
            "10. **Edge Computing** \n"
          ]
        }
      ],
      "id": "odZLhLyuibFu"
    },
    {
      "cell_type": "code",
      "source": [
        "generation_config = GenerationConfig(\n",
        "    temperature=0.9,\n",
        "    top_p=1.0,\n",
        "    top_k=32,\n",
        "    candidate_count=1,\n",
        "    max_output_tokens=8192,\n",
        ")\n",
        "\n",
        "responses = model.generate_content(\"Why is Sky blue?\", generation_config=generation_config, stream=True)\n",
        "\n",
        "for response in responses:\n",
        "  print(response.text, end=\"\")\n"
      ],
      "metadata": {
        "colab": {
          "base_uri": "https://localhost:8080/"
        },
        "id": "1dTv7mcAkzIT",
        "outputId": "83fc1aa6-98a1-4a42-e470-c09ca594b157"
      },
      "id": "1dTv7mcAkzIT",
      "execution_count": 9,
      "outputs": [
        {
          "output_type": "stream",
          "name": "stdout",
          "text": [
            "The sky appears blue due to a phenomenon known as Rayleigh scattering. This scattering occurs when sunlight enters the Earth's atmosphere and interacts with the tiny particles present there, such as nitrogen and oxygen molecules. These particles are much smaller than the wavelength of visible light.\n",
            "\n",
            "When sunlight encounters these particles, it is scattered in all directions. However, blue light is scattered more effectively than other colors because it has a shorter wavelength. This scattered blue light reaches our eyes from all parts of the sky, making it appear blue. \n",
            "\n",
            "Here's a breakdown of the process:\n",
            "\n",
            "1. **Sunlight enters the Earth's atmosphere.** Sunlight is composed of all the colors of the rainbow, which can be seen when sunlight passes through a prism.\n",
            "2. **Light interacts with air molecules.** As sunlight travels through the atmosphere, it encounters tiny particles like nitrogen and oxygen molecules.\n",
            "3. **Blue light is scattered more.** These particles scatter light in all directions, but they scatter blue light more effectively than other colors because blue light has a shorter wavelength.\n",
            "4. **Scattered blue light reaches our eyes.** The scattered blue light reaches our eyes from all parts of the sky, making the sky appear blue.\n",
            "\n",
            "Other colors, like red and yellow, have longer wavelengths and are scattered less effectively. This is why we see a predominantly blue sky during the day.\n",
            "\n",
            "**Additional factors influencing sky color:**\n",
            "\n",
            "* **Time of day:** The sky appears more blue at midday when the sun is high in the sky and the sunlight travels through less atmosphere. As the sun sets or rises, the sunlight travels through more atmosphere, causing more scattering of blue light and making the sky appear red or orange.\n",
            "* **Clouds and pollution:** Clouds and pollution particles can also scatter light and affect the color of the sky. \n",
            "* **Altitude:** As you go higher in altitude, the atmosphere becomes thinner and there are fewer particles to scatter light. This can make the sky appear darker and more violet.\n",
            "\n",
            " I hope this explanation helps! Let me know if you have any other questions."
          ]
        }
      ]
    },
    {
      "cell_type": "markdown",
      "source": [
        "Test Chat Prompt\n"
      ],
      "metadata": {
        "id": "WPv6lwrnmFwX"
      },
      "id": "WPv6lwrnmFwX"
    },
    {
      "cell_type": "code",
      "source": [
        "chat = model.start_chat()\n",
        "\n",
        "prompt = \"\"\" My name is Parav. You are my personal assistant . My favourite movies are from marvel cinematic universe. Suggest me movies that i might like.\"\"\"\n",
        "\n",
        "responses = chat.send_message(prompt, stream=True)\n",
        "\n",
        "for response in responses:\n",
        "  print(response.text, end=\"\")"
      ],
      "metadata": {
        "colab": {
          "base_uri": "https://localhost:8080/"
        },
        "id": "N1kYnV6XmFKb",
        "outputId": "cf66f2a9-7a69-4029-fc8e-b8abafa97b63"
      },
      "id": "N1kYnV6XmFKb",
      "execution_count": 13,
      "outputs": [
        {
          "output_type": "stream",
          "name": "stdout",
          "text": [
            "Hey Parav! It's great to meet you. I'm excited to help you find some new Marvel movies to enjoy. \n",
            "\n",
            "Based on your love for the Marvel Cinematic Universe, here are a few suggestions:\n",
            "\n",
            "**If you're looking for something recent:**\n",
            "\n",
            "* **Black Panther: Wakanda Forever (2022):** This sequel to the highly acclaimed Black Panther delves deeper into the world of Wakanda and explores themes of legacy, grief, and community.\n",
            "* **Thor: Love and Thunder (2022):** This hilarious and action-packed film sees Thor team up with the Guardians of the Galaxy and Jane Foster, who becomes the Mighty Thor.\n",
            "* **Spider-Man: No Way Home (2021):** This epic crossover film brings together multiple Spider-Man iterations and features plenty of nostalgic moments for fans of the franchise.\n",
            "\n",
            "**If you're in the mood for a specific genre:**\n",
            "\n",
            "* **Action/Adventure:** Guardians of the Galaxy (2014), Captain America: The Winter Soldier (2014), Avengers: Infinity War (2018)\n",
            "* **Comedy:** Ant-Man (2015), Thor: Ragnarok (2017), Deadpool (2016)\n",
            "* **Drama:** Captain America: Civil War (2016), Black Panther (2018), Logan (2017)\n",
            "\n",
            "**If you're curious about a specific character or storyline:**\n",
            "\n",
            "* **Iron Man:** Iron Man (2008), Iron Man 2 (2010), Iron Man 3 (2013)\n",
            "* **Captain America:** Captain America: The First Avenger (2011), Captain America: The Winter Soldier (2014), Captain America: Civil War (2016)\n",
            "* **Thor:** Thor (2011), Thor: The Dark World (2013), Thor: Ragnarok (2017)\n",
            "\n",
            "**And if you're looking for something a bit different:**\n",
            "\n",
            "* **What If...? (2021-present):** This animated series explores alternate timelines and scenarios within the MCU.\n",
            "* **The Defenders (2017):** This miniseries brings together Daredevil, Jessica Jones, Luke Cage, and Iron Fist for a team-up adventure.\n",
            "* **Agent Carter (2015-2016):** This period drama follows Peggy Carter, a founding member of S.H.I.E.L.D., on her adventures after World War II.\n",
            "\n",
            "No matter what you're looking for, there's sure to be a Marvel movie out there that you'll enjoy. \n",
            "\n",
            "**Here are some additional resources to help you choose your next Marvel movie:**\n",
            "\n",
            "* **The Official Marvel Website:** https://www.marvel.com/movies\n",
            "* **Marvel Cinematic Universe Wiki:** https://marvelcinematicuniverse.fandom.com/wiki/Marvel_Cinematic_Universe\n",
            "* **Rotten Tomatoes:** https://www.rottentomatoes.com/top/bestofrt/?genres=1013916-Superhero\n",
            "\n",
            "Let me know if you have any questions or if there's anything else I can help you with."
          ]
        }
      ]
    },
    {
      "cell_type": "code",
      "source": [
        "prompt = \"\"\" Are my favourite movies base on comics.\"\"\"\n",
        "\n",
        "responses = chat.send_message(prompt, stream=True)\n",
        "\n",
        "for response in responses:\n",
        "  print(response.text, end=\"\")"
      ],
      "metadata": {
        "colab": {
          "base_uri": "https://localhost:8080/"
        },
        "id": "eqMHgvslnW76",
        "outputId": "48afbdc2-d85f-493a-dccc-de4d8dcfec7e"
      },
      "id": "eqMHgvslnW76",
      "execution_count": 14,
      "outputs": [
        {
          "output_type": "stream",
          "name": "stdout",
          "text": [
            "## Are your favorite movies based on comics?\n",
            "\n",
            "It depends on which of your favorite movies you are referring to. \n",
            "\n",
            "If you are referring to the Marvel Cinematic Universe movies you mentioned earlier, then **yes, they are based on comic books**. Each of the characters and storylines in these movies originated in Marvel Comics publications. \n",
            "\n",
            "However, if you have other favorite movies that you did not mention, it's important to note that not all movies are based on comics. Many movies are based on original screenplays, novels, historical events, or other sources. \n",
            "\n",
            "If you'd like to know whether a specific movie is based on a comic book, you can check the information on its official website, search for it on resources like Wikipedia or IMDb, or simply ask me! \n",
            "\n",
            "I'm happy to help you explore the world of movies and comics further. \n"
          ]
        }
      ]
    },
    {
      "cell_type": "code",
      "source": [
        "print(chat.history)"
      ],
      "metadata": {
        "colab": {
          "base_uri": "https://localhost:8080/"
        },
        "id": "cmg3-Tpbn0QE",
        "outputId": "3703a516-709e-4950-c8e7-5dd07c81c814"
      },
      "id": "cmg3-Tpbn0QE",
      "execution_count": 15,
      "outputs": [
        {
          "output_type": "stream",
          "name": "stdout",
          "text": [
            "[role: \"user\"\n",
            "parts {\n",
            "  text: \" My name is Parav. You are my personal assistant . My favourite movies are from marvel cinematic universe. Suggest me movies that i might like.\"\n",
            "}\n",
            ", role: \"model\"\n",
            "parts {\n",
            "  text: \"Hey Parav! It\\'s great to meet you. I\\'m excited to help you find some new Marvel movies to enjoy. \\n\\nBased on your love for the Marvel Cinematic Universe, here are a few suggestions:\\n\\n**If you\\'re looking for something recent:**\\n\\n* **Black Panther: Wakanda Forever (2022):** This sequel to the highly acclaimed Black Panther delves deeper into the world of Wakanda and explores themes of legacy, grief, and community.\\n* **Thor: Love and Thunder (2022):** This hilarious and action-packed film sees Thor team up with the Guardians of the Galaxy and Jane Foster, who becomes the Mighty Thor.\\n* **Spider-Man: No Way Home (2021):** This epic crossover film brings together multiple Spider-Man iterations and features plenty of nostalgic moments for fans of the franchise.\\n\\n**If you\\'re in the mood for a specific genre:**\\n\\n* **Action/Adventure:** Guardians of the Galaxy (2014), Captain America: The Winter Soldier (2014), Avengers: Infinity War (2018)\\n* **Comedy:** Ant-Man (2015), Thor: Ragnarok (2017), Deadpool (2016)\\n* **Drama:** Captain America: Civil War (2016), Black Panther (2018), Logan (2017)\\n\\n**If you\\'re curious about a specific character or storyline:**\\n\\n* **Iron Man:** Iron Man (2008), Iron Man 2 (2010), Iron Man 3 (2013)\\n* **Captain America:** Captain America: The First Avenger (2011), Captain America: The Winter Soldier (2014), Captain America: Civil War (2016)\\n* **Thor:** Thor (2011), Thor: The Dark World (2013), Thor: Ragnarok (2017)\\n\\n**And if you\\'re looking for something a bit different:**\\n\\n* **What If...? (2021-present):** This animated series explores alternate timelines and scenarios within the MCU.\\n* **The Defenders (2017):** This miniseries brings together Daredevil, Jessica Jones, Luke Cage, and Iron Fist for a team-up adventure.\\n* **Agent Carter (2015-2016):** This period drama follows Peggy Carter, a founding member of S.H.I.E.L.D., on her adventures after World War II.\\n\\nNo matter what you\\'re looking for, there\\'s sure to be a Marvel movie out there that you\\'ll enjoy. \\n\\n**Here are some additional resources to help you choose your next Marvel movie:**\\n\\n* **The Official Marvel Website:** https://www.marvel.com/movies\\n* **Marvel Cinematic Universe Wiki:** https://marvelcinematicuniverse.fandom.com/wiki/Marvel_Cinematic_Universe\\n* **Rotten Tomatoes:** https://www.rottentomatoes.com/top/bestofrt/?genres=1013916-Superhero\\n\\nLet me know if you have any questions or if there\\'s anything else I can help you with.\"\n",
            "}\n",
            ", role: \"user\"\n",
            "parts {\n",
            "  text: \" Are my favourite movies base on comics.\"\n",
            "}\n",
            ", role: \"model\"\n",
            "parts {\n",
            "  text: \"## Are your favorite movies based on comics?\\n\\nIt depends on which of your favorite movies you are referring to. \\n\\nIf you are referring to the Marvel Cinematic Universe movies you mentioned earlier, then **yes, they are based on comic books**. Each of the characters and storylines in these movies originated in Marvel Comics publications. \\n\\nHowever, if you have other favorite movies that you did not mention, it\\'s important to note that not all movies are based on comics. Many movies are based on original screenplays, novels, historical events, or other sources. \\n\\nIf you\\'d like to know whether a specific movie is based on a comic book, you can check the information on its official website, search for it on resources like Wikipedia or IMDb, or simply ask me! \\n\\nI\\'m happy to help you explore the world of movies and comics further. \\n\"\n",
            "}\n",
            "]\n"
          ]
        }
      ]
    },
    {
      "cell_type": "markdown",
      "source": [
        "Load the gemini 1.0 Pro Vision Model"
      ],
      "metadata": {
        "id": "7TUYwuw7olop"
      },
      "id": "7TUYwuw7olop"
    },
    {
      "cell_type": "code",
      "source": [
        "multimodal_model = GenerativeModel(\"gemini-1.0-pro-vision\")"
      ],
      "metadata": {
        "id": "HUkgheZxn-V4"
      },
      "id": "HUkgheZxn-V4",
      "execution_count": 16,
      "outputs": []
    }
  ],
  "metadata": {
    "kernelspec": {
      "display_name": "Python 3",
      "language": "python",
      "name": "python3"
    },
    "language_info": {
      "codemirror_mode": {
        "name": "ipython",
        "version": 3
      },
      "file_extension": ".py",
      "mimetype": "text/x-python",
      "name": "python",
      "nbconvert_exporter": "python",
      "pygments_lexer": "ipython3",
      "version": "3.10.10"
    },
    "colab": {
      "provenance": [],
      "name": "vertexai-demo"
    }
  },
  "nbformat": 4,
  "nbformat_minor": 5
}